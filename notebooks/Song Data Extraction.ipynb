{
 "cells": [
  {
   "cell_type": "code",
   "execution_count": 1,
   "id": "05b6e746",
   "metadata": {},
   "outputs": [],
   "source": [
    "import requests\n",
    "import base64\n",
    "import pandas as pd\n",
    "import spotipy\n",
    "from spotipy.oauth2 import SpotifyClientCredentials\n",
    "import time\n",
    "import urllib3"
   ]
  },
  {
   "cell_type": "code",
   "execution_count": 2,
   "id": "fd1c6858",
   "metadata": {},
   "outputs": [],
   "source": [
    "client_id = '4bfcfc5810374447b13d593925b9fbd3'\n",
    "client_secret = 'e6f4755f93f747c5acb311a4c78de8a8'"
   ]
  },
  {
   "cell_type": "code",
   "execution_count": 3,
   "id": "02dc4029",
   "metadata": {},
   "outputs": [
    {
     "name": "stdout",
     "output_type": "stream",
     "text": [
      "Access token obtained successfully.\n"
     ]
    }
   ],
   "source": [
    "# Base64 encode the client ID and client secret\n",
    "client_credentials = f\"{client_id}:{client_secret}\"\n",
    "client_credentials_base64 = base64.b64encode(client_credentials.encode())\n",
    "\n",
    "# Request the access token\n",
    "token_url = 'https://accounts.spotify.com/api/token'\n",
    "headers = {'Authorization': f'Basic {client_credentials_base64.decode()}'}\n",
    "data = {'grant_type': 'client_credentials'}\n",
    "response = requests.post(token_url, data=data, headers=headers)\n",
    "\n",
    "if response.status_code == 200:\n",
    "    access_token = response.json()['access_token']\n",
    "    print(\"Access token obtained successfully.\")\n",
    "else:\n",
    "    print(\"Error obtaining access token.\")\n",
    "    exit()"
   ]
  },
  {
   "cell_type": "code",
   "execution_count": 4,
   "id": "0d115839",
   "metadata": {},
   "outputs": [],
   "source": [
    "# Initialize Spotipy client with the access token\n",
    "sp = spotipy.Spotify(auth=access_token)"
   ]
  },
  {
   "cell_type": "markdown",
   "id": "dd45f087",
   "metadata": {},
   "source": [
    "# Track data extraction"
   ]
  },
  {
   "cell_type": "markdown",
   "id": "26ec1739",
   "metadata": {},
   "source": [
    "## Extract songs and their data from playlists"
   ]
  },
  {
   "cell_type": "code",
   "execution_count": 6,
   "id": "980fea8a",
   "metadata": {},
   "outputs": [],
   "source": [
    "def chunks(lst, chunk_size):\n",
    "    \"\"\"Yield successive chunk_size-sized chunks from lst.\"\"\"\n",
    "    for i in range(0, len(lst), chunk_size):\n",
    "        yield lst[i:i + chunk_size]"
   ]
  },
  {
   "cell_type": "code",
   "execution_count": 7,
   "id": "7e7828ae",
   "metadata": {},
   "outputs": [],
   "source": [
    "def extract_playlist_tracks(playlist_ids):\n",
    "    all_tracks = []\n",
    "    processed_track_ids = set()  # Set to store track IDs that have already been processed\n",
    "    \n",
    "    # Iterate over chunks of playlist IDs\n",
    "    for playlist_chunk in chunks(playlist_ids, 5):  # Use 5 instead of 100 to leave some room for audio features requests\n",
    "        for playlist_id in playlist_chunk:\n",
    "            print(f\"Processing playlist with ID: {playlist_id}\")\n",
    "            # Fetch tracks from the playlist\n",
    "            playlist_tracks = sp.playlist_tracks(playlist_id)\n",
    "            for item in playlist_tracks['items']:\n",
    "                try:\n",
    "                    track = item['track']\n",
    "                    track_id = track['id']\n",
    "                    \n",
    "                    # Fetch artist information to get genre\n",
    "                    artist_id = track['artists'][0]['id']  # Assuming only one artist for simplicity\n",
    "                    artist = sp.artist(artist_id)\n",
    "                    \n",
    "                    # Check if track ID has already been processed\n",
    "                    if track_id in processed_track_ids:\n",
    "                        continue\n",
    "                    processed_track_ids.add(track_id)\n",
    "                    \n",
    "                    # Fetch audio features for the track with rate limiting\n",
    "                    while True:\n",
    "                        try:\n",
    "                            audio_features = sp.audio_features(track_id)\n",
    "                            break\n",
    "                        except spotipy.SpotifyException as e:\n",
    "                            if e.http_status == 429:\n",
    "                                retry_after = int(e.headers.get('Retry-After', 5))  # Default to 5 seconds if Retry-After header is missing\n",
    "                                print(f\"Rate limited. Waiting for {retry_after} seconds...\")\n",
    "                                time.sleep(retry_after)\n",
    "                            else:\n",
    "                                raise\n",
    "                                \n",
    "                    track_info = {\n",
    "                        'track_name': track['name'],\n",
    "                        'track_id': track_id,\n",
    "                        'artist_name': ', '.join([artist['name'] for artist in track['artists']]),\n",
    "                        'album_name': track['album']['name'],\n",
    "                        'release_date': track['album']['release_date'],\n",
    "                        'artist_genre': artist['genres'],\n",
    "                        'popularity': track['popularity'],\n",
    "                        'Duration (ms)': track['duration_ms'],\n",
    "                        'Acousticness': audio_features[0]['acousticness'] if audio_features else None,\n",
    "                        'Danceability': audio_features[0]['danceability'] if audio_features else None,\n",
    "                        'Energy': audio_features[0]['energy'] if audio_features else None,\n",
    "                        'Instrumentalness': audio_features[0]['instrumentalness'] if audio_features else None,\n",
    "                        'Key': audio_features[0]['key'] if audio_features else None,\n",
    "                        'Liveness': audio_features[0]['liveness'] if audio_features else None,\n",
    "                        'Loudness': audio_features[0]['loudness'] if audio_features else None,\n",
    "                        'Mode': audio_features[0]['mode'] if audio_features else None,\n",
    "                        'Speechiness': audio_features[0]['speechiness'] if audio_features else None,\n",
    "                        'Tempo': audio_features[0]['tempo'] if audio_features else None,\n",
    "                        'Time Signature': audio_features[0]['time_signature'] if audio_features else None,\n",
    "                        'Valence': audio_features[0]['valence'] if audio_features else None\n",
    "                    }\n",
    "                    all_tracks.append(track_info)\n",
    "                except TypeError:\n",
    "                    pass  # Skip processing if item is not a track\n",
    "    return pd.DataFrame(all_tracks)"
   ]
  },
  {
   "cell_type": "code",
   "execution_count": 8,
   "id": "1be32f33",
   "metadata": {},
   "outputs": [
    {
     "name": "stdout",
     "output_type": "stream",
     "text": [
      "Processing playlist with ID: 37i9dQZF1DX4JAvHpjipBk\n",
      "Processing playlist with ID: 37i9dQZF1E39XlANlAA96X\n",
      "Processing playlist with ID: 37i9dQZF1E38u5gDMtyu8E\n",
      "Processing playlist with ID: 37i9dQZF1EIZobirLlpmBa\n",
      "Processing playlist with ID: 0DZnrQLsdDXN4lGTFXZhgI\n",
      "Processing playlist with ID: 37i9dQZF1DZ06evO3nMr04\n",
      "Processing playlist with ID: 37i9dQZF1E8Rlw8xLHOZhl\n",
      "Processing playlist with ID: 37i9dQZEVXbMDoHDwVN2tF\n",
      "Processing playlist with ID: 14t09nUK5mFkvIIDhkRV7B\n",
      "Processing playlist with ID: 37i9dQZF1EQnqst5TRi17F\n",
      "Processing playlist with ID: 37i9dQZF1DXbpmT3HUTsZm\n",
      "Processing playlist with ID: 4kw9kdjzx1UmyWvpysl0y2\n",
      "Processing playlist with ID: 37i9dQZF1E37Dn6wPX9ecO\n",
      "Processing playlist with ID: 37i9dQZEVXcQNDD4Awnxhz\n",
      "Processing playlist with ID: 37i9dQZEVXbt5m3VaHBeIu\n",
      "Processing playlist with ID: 37i9dQZF1E8Rlw8xLHOZhl\n",
      "Processing playlist with ID: 37i9dQZF1EpoOUxiVPoQtA\n",
      "Processing playlist with ID: 37i9dQZF1EIUyZdbBpVQ7y\n",
      "Processing playlist with ID: 37i9dQZF1E8L9WcXJhUTKo\n",
      "Processing playlist with ID: 37i9dQZF1DWUoqEG4WY6ce\n",
      "Processing playlist with ID: 37i9dQZF1DX3asLxmR3A9e\n",
      "Processing playlist with ID: 37i9dQZF1E8GJRbsFHwpXF\n",
      "Processing playlist with ID: 37i9dQZF1E8L8G4urdGGr9\n",
      "Processing playlist with ID: 37i9dQZF1E8MKHBxFbDuoo\n",
      "Processing playlist with ID: 37i9dQZF1E8SlAh0oV8cae\n",
      "Processing playlist with ID: 37i9dQZF1E8MubKUjrQkqL\n",
      "Processing playlist with ID: 37i9dQZF1E8NMu9akGoaMM\n",
      "Processing playlist with ID: 37i9dQZF1DZ06evO4lAAFJ\n",
      "Processing playlist with ID: 37i9dQZF1E4kbqsPktqjuv\n",
      "Processing playlist with ID: 37i9dQZF1DZ06evO3Ec90s\n",
      "Processing playlist with ID: 37i9dQZF1DX6drTZKzZwSo\n",
      "Processing playlist with ID: 37i9dQZF1DX4o1oenSJRJd\n",
      "Processing playlist with ID: 1zoyTmSQomGTNadjjOuaPu\n",
      "Processing playlist with ID: 37i9dQZF1DWUa8ZRTfalHk\n",
      "Processing playlist with ID: 37i9dQZF1DX4WYpdgoIcn6\n",
      "Processing playlist with ID: 37i9dQZF1DX6aTaZa0K6VA\n"
     ]
    }
   ],
   "source": [
    "# Desired playlist IDs\n",
    "playlist_ids = ['37i9dQZF1DX4JAvHpjipBk', '37i9dQZF1E39XlANlAA96X', '37i9dQZF1E38u5gDMtyu8E', \n",
    "                '37i9dQZF1EIZobirLlpmBa', '0DZnrQLsdDXN4lGTFXZhgI', '37i9dQZF1DZ06evO3nMr04',\n",
    "                '37i9dQZF1E8Rlw8xLHOZhl', '37i9dQZEVXbMDoHDwVN2tF', '14t09nUK5mFkvIIDhkRV7B', \n",
    "                '37i9dQZF1EQnqst5TRi17F', '37i9dQZF1DXbpmT3HUTsZm', '4kw9kdjzx1UmyWvpysl0y2',\n",
    "                '37i9dQZF1E37Dn6wPX9ecO', '37i9dQZEVXcQNDD4Awnxhz', '37i9dQZEVXbt5m3VaHBeIu',\n",
    "                '37i9dQZF1E8Rlw8xLHOZhl', '37i9dQZF1EpoOUxiVPoQtA', '37i9dQZF1EIUyZdbBpVQ7y', \n",
    "                '37i9dQZF1E8L9WcXJhUTKo', '37i9dQZF1DWUoqEG4WY6ce', '37i9dQZF1DX3asLxmR3A9e', \n",
    "                '37i9dQZF1E8GJRbsFHwpXF', '37i9dQZF1E8L8G4urdGGr9', '37i9dQZF1E8MKHBxFbDuoo',\n",
    "                '37i9dQZF1E8SlAh0oV8cae', '37i9dQZF1E8MubKUjrQkqL', '37i9dQZF1E8NMu9akGoaMM',\n",
    "                '37i9dQZF1DZ06evO4lAAFJ', '37i9dQZF1E4kbqsPktqjuv', '37i9dQZF1DZ06evO3Ec90s',\n",
    "                '37i9dQZF1DX6drTZKzZwSo', '37i9dQZF1DX4o1oenSJRJd', '1zoyTmSQomGTNadjjOuaPu',\n",
    "                '37i9dQZF1DWUa8ZRTfalHk', '37i9dQZF1DX4WYpdgoIcn6', '37i9dQZF1DX6aTaZa0K6VA']  \n",
    "\n",
    "# Extract songs info\n",
    "playlist_tracks_df = extract_playlist_tracks(playlist_ids)\n"
   ]
  },
  {
   "cell_type": "code",
   "execution_count": 9,
   "id": "f685c355",
   "metadata": {},
   "outputs": [
    {
     "name": "stdout",
     "output_type": "stream",
     "text": [
      "<class 'pandas.core.frame.DataFrame'>\n",
      "RangeIndex: 1802 entries, 0 to 1801\n",
      "Data columns (total 20 columns):\n",
      " #   Column            Non-Null Count  Dtype  \n",
      "---  ------            --------------  -----  \n",
      " 0   track_name        1802 non-null   object \n",
      " 1   track_id          1802 non-null   object \n",
      " 2   artist_name       1802 non-null   object \n",
      " 3   album_name        1802 non-null   object \n",
      " 4   release_date      1802 non-null   object \n",
      " 5   artist_genre      1802 non-null   object \n",
      " 6   popularity        1802 non-null   int64  \n",
      " 7   Duration (ms)     1802 non-null   int64  \n",
      " 8   Acousticness      1802 non-null   float64\n",
      " 9   Danceability      1802 non-null   float64\n",
      " 10  Energy            1802 non-null   float64\n",
      " 11  Instrumentalness  1802 non-null   float64\n",
      " 12  Key               1802 non-null   int64  \n",
      " 13  Liveness          1802 non-null   float64\n",
      " 14  Loudness          1802 non-null   float64\n",
      " 15  Mode              1802 non-null   int64  \n",
      " 16  Speechiness       1802 non-null   float64\n",
      " 17  Tempo             1802 non-null   float64\n",
      " 18  Time Signature    1802 non-null   int64  \n",
      " 19  Valence           1802 non-null   float64\n",
      "dtypes: float64(9), int64(5), object(6)\n",
      "memory usage: 281.7+ KB\n"
     ]
    }
   ],
   "source": [
    "playlist_tracks_df.info()"
   ]
  },
  {
   "cell_type": "code",
   "execution_count": 10,
   "id": "26c044da",
   "metadata": {},
   "outputs": [],
   "source": [
    "# Assuming you have a DataFrame named 'df'\n",
    "playlist_tracks_df.to_csv('tracks.csv', index=False)"
   ]
  },
  {
   "cell_type": "code",
   "execution_count": null,
   "id": "f7d46404",
   "metadata": {},
   "outputs": [],
   "source": []
  },
  {
   "cell_type": "code",
   "execution_count": null,
   "id": "4c810e50",
   "metadata": {},
   "outputs": [],
   "source": []
  }
 ],
 "metadata": {
  "kernelspec": {
   "display_name": "Python 3 (ipykernel)",
   "language": "python",
   "name": "python3"
  },
  "language_info": {
   "codemirror_mode": {
    "name": "ipython",
    "version": 3
   },
   "file_extension": ".py",
   "mimetype": "text/x-python",
   "name": "python",
   "nbconvert_exporter": "python",
   "pygments_lexer": "ipython3",
   "version": "3.11.5"
  }
 },
 "nbformat": 4,
 "nbformat_minor": 5
}
