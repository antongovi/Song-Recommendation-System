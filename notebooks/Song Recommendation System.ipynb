{
 "cells": [
  {
   "cell_type": "code",
   "execution_count": 1,
   "id": "e9b0f07c",
   "metadata": {},
   "outputs": [],
   "source": [
    "import requests\n",
    "import base64\n",
    "import pandas as pd\n",
    "import spotipy\n",
    "from spotipy.oauth2 import SpotifyClientCredentials\n",
    "\n",
    "from sklearn.metrics.pairwise import cosine_similarity\n",
    "from sklearn.neighbors import NearestNeighbors"
   ]
  },
  {
   "cell_type": "code",
   "execution_count": 2,
   "id": "f3cdbed2",
   "metadata": {},
   "outputs": [],
   "source": [
    "client_id = 'specific_client_ID'\n",
    "client_secret = 'specific_client_secret'"
   ]
  },
  {
   "cell_type": "code",
   "execution_count": 3,
   "id": "15d1689b",
   "metadata": {},
   "outputs": [
    {
     "name": "stdout",
     "output_type": "stream",
     "text": [
      "Access token obtained successfully.\n"
     ]
    }
   ],
   "source": [
    "# Base64 encode the client ID and client secret\n",
    "client_credentials = f\"{client_id}:{client_secret}\"\n",
    "client_credentials_base64 = base64.b64encode(client_credentials.encode())\n",
    "\n",
    "# Request the access token\n",
    "token_url = 'https://accounts.spotify.com/api/token'\n",
    "headers = {'Authorization': f'Basic {client_credentials_base64.decode()}'}\n",
    "data = {'grant_type': 'client_credentials'}\n",
    "response = requests.post(token_url, data=data, headers=headers)\n",
    "\n",
    "if response.status_code == 200:\n",
    "    access_token = response.json()['access_token']\n",
    "    print(\"Access token obtained successfully.\")\n",
    "else:\n",
    "    print(\"Error obtaining access token.\")\n",
    "    exit()"
   ]
  },
  {
   "cell_type": "code",
   "execution_count": 4,
   "id": "ce5b1695",
   "metadata": {},
   "outputs": [],
   "source": [
    "# Initialize Spotipy client with the access token\n",
    "sp = spotipy.Spotify(auth=access_token)"
   ]
  },
  {
   "cell_type": "markdown",
   "id": "f8b3be3b",
   "metadata": {},
   "source": [
    "### Try recomending Songs using 'recommendations' endpoint from spotipy"
   ]
  },
  {
   "cell_type": "code",
   "execution_count": 5,
   "id": "7d04fecf",
   "metadata": {},
   "outputs": [
    {
     "name": "stdout",
     "output_type": "stream",
     "text": [
      "The track ID for 'Power' by Kanye West is: 2gZUPNdnz5Y45eiGxpHGSc\n"
     ]
    }
   ],
   "source": [
    "# Function to search song ID from a song name and its artist\n",
    "def search_track(track_name, artist_name):\n",
    "    query = f\"track:{track_name} artist:{artist_name}\"\n",
    "    results = sp.search(q=query, limit=1, type='track')\n",
    "    if results['tracks']['items']:\n",
    "        return results['tracks']['items'][0]['id']\n",
    "    else:\n",
    "        return None\n",
    "\n",
    "# Example\n",
    "track_name = 'Power'  # Example track name\n",
    "artist_name = 'Kanye West'  # Example artist name\n",
    "track_id = search_track(track_name, artist_name)\n",
    "if track_id:\n",
    "    print(f\"The track ID for '{track_name}' by {artist_name} is: {track_id}\")\n",
    "else:\n",
    "    print(f\"No track found with the name '{track_name}' by {artist_name}.\")\n"
   ]
  },
  {
   "cell_type": "code",
   "execution_count": 6,
   "id": "295619db",
   "metadata": {},
   "outputs": [
    {
     "name": "stdout",
     "output_type": "stream",
     "text": [
      "Recommendations based on the track: Power by Kanye West with ID 2gZUPNdnz5Y45eiGxpHGSc\n",
      "1. Domo23 - Tyler, The Creator\n",
      "2. Ms. Jackson - Outkast\n",
      "3. Lucid Dreams - Juice WRLD\n",
      "4. Superhero (Heroes & Villains) [with Future & Chris Brown] - Metro Boomin, Future, Chris Brown\n",
      "5. FRANCHISE (feat. Young Thug & M.I.A.) - Travis Scott, Young Thug, M.I.A.\n",
      "6. Turn My Swag On - Soulja Boy\n",
      "7. No Vaseline - Ice Cube\n",
      "8. God's Plan - Drake\n",
      "9. No Sleep - Wiz Khalifa\n",
      "10. All Falls Down - Kanye West, Syleena Johnson\n"
     ]
    }
   ],
   "source": [
    "# Function to get recommendations based on a track\n",
    "def get_recommendations(seed_track_id, limit=10):\n",
    "    recommendations = sp.recommendations(seed_tracks=[seed_track_id], limit=limit)\n",
    "    tracks = []\n",
    "    for track in recommendations['tracks']:\n",
    "        tracks.append(track['name'] + ' - ' + ', '.join([artist['name'] for artist in track['artists']]))\n",
    "    return tracks\n",
    "\n",
    "# Example\n",
    "recommendations = get_recommendations(track_id)\n",
    "print(f\"Recommendations based on the track: {track_name} by {artist_name} with ID {track_id}\")\n",
    "for i, track in enumerate(recommendations, start=1):\n",
    "    print(f\"{i}. {track}\")"
   ]
  },
  {
   "cell_type": "markdown",
   "id": "e6cbf795",
   "metadata": {},
   "source": [
    "# Song Recommendation System"
   ]
  },
  {
   "cell_type": "markdown",
   "id": "d06c5ef2",
   "metadata": {},
   "source": [
    "### Load extracted tracks data"
   ]
  },
  {
   "cell_type": "code",
   "execution_count": 7,
   "id": "ba221c4f",
   "metadata": {},
   "outputs": [],
   "source": [
    "file_path = 'tracks.csv'\n",
    "\n",
    "# Load the CSV file into a DataFrame\n",
    "tracks_df = pd.read_csv(file_path)"
   ]
  },
  {
   "cell_type": "code",
   "execution_count": 8,
   "id": "cbf6e6ae",
   "metadata": {},
   "outputs": [
    {
     "name": "stdout",
     "output_type": "stream",
     "text": [
      "<class 'pandas.core.frame.DataFrame'>\n",
      "RangeIndex: 1802 entries, 0 to 1801\n",
      "Data columns (total 20 columns):\n",
      " #   Column            Non-Null Count  Dtype  \n",
      "---  ------            --------------  -----  \n",
      " 0   track_name        1802 non-null   object \n",
      " 1   track_id          1802 non-null   object \n",
      " 2   artist_name       1802 non-null   object \n",
      " 3   album_name        1802 non-null   object \n",
      " 4   release_date      1802 non-null   object \n",
      " 5   artist_genre      1802 non-null   object \n",
      " 6   popularity        1802 non-null   int64  \n",
      " 7   Duration (ms)     1802 non-null   int64  \n",
      " 8   Acousticness      1802 non-null   float64\n",
      " 9   Danceability      1802 non-null   float64\n",
      " 10  Energy            1802 non-null   float64\n",
      " 11  Instrumentalness  1802 non-null   float64\n",
      " 12  Key               1802 non-null   int64  \n",
      " 13  Liveness          1802 non-null   float64\n",
      " 14  Loudness          1802 non-null   float64\n",
      " 15  Mode              1802 non-null   int64  \n",
      " 16  Speechiness       1802 non-null   float64\n",
      " 17  Tempo             1802 non-null   float64\n",
      " 18  Time Signature    1802 non-null   int64  \n",
      " 19  Valence           1802 non-null   float64\n",
      "dtypes: float64(9), int64(5), object(6)\n",
      "memory usage: 281.7+ KB\n"
     ]
    }
   ],
   "source": [
    "tracks_df.info()"
   ]
  },
  {
   "cell_type": "markdown",
   "id": "95cf8304",
   "metadata": {},
   "source": [
    "## Extract info for new song"
   ]
  },
  {
   "cell_type": "code",
   "execution_count": 9,
   "id": "86c2cff0",
   "metadata": {},
   "outputs": [],
   "source": [
    "def extract_track_features(track_id): \n",
    "    track_data = []\n",
    "    track = sp.track(track_id)\n",
    "    audio_features = sp.audio_features(track_id)\n",
    "    artist_id = track['artists'][0]['id']  # Assuming only one artist\n",
    "    artist = sp.artist(artist_id)\n",
    "\n",
    "    track_info = {\n",
    "                    'track_name': track['name'],\n",
    "                    'track_id': track_id,\n",
    "                    'artist_name': ', '.join([artist['name'] for artist in track['artists']]),\n",
    "                    'album_name': track['album']['name'],\n",
    "                    'release_date': track['album']['release_date'],\n",
    "                    'artist_genre': artist['genres'][0] if audio_features and len(artist['genres']) > 0 else None,\n",
    "                    'popularity': track['popularity'],\n",
    "                    'Duration (ms)': track['duration_ms'],\n",
    "                    'Acousticness': audio_features[0]['acousticness'] if audio_features else None,\n",
    "                    'Danceability': audio_features[0]['danceability'] if audio_features else None,\n",
    "                    'Energy': audio_features[0]['energy'] if audio_features else None,\n",
    "                    'Instrumentalness': audio_features[0]['instrumentalness'] if audio_features else None,\n",
    "                    'Key': audio_features[0]['key'] if audio_features else None,\n",
    "                    'Liveness': audio_features[0]['liveness'] if audio_features else None,\n",
    "                    'Loudness': audio_features[0]['loudness'] if audio_features else None,\n",
    "                    'Mode': audio_features[0]['mode'] if audio_features else None,\n",
    "                    'Speechiness': audio_features[0]['speechiness'] if audio_features else None,\n",
    "                    'Tempo': audio_features[0]['tempo'] if audio_features else None,\n",
    "                    'Time Signature': audio_features[0]['time_signature'] if audio_features else None,\n",
    "                    'Valence': audio_features[0]['valence'] if audio_features else None\n",
    "                }\n",
    "    \n",
    "    return pd.DataFrame([track_info])"
   ]
  },
  {
   "cell_type": "code",
   "execution_count": 10,
   "id": "fd2168fe",
   "metadata": {},
   "outputs": [],
   "source": [
    "track_name = 'Enough is Enough'  # Track name\n",
    "artist_name = 'Post Malone'  # Artist name\n",
    "\n",
    "\n",
    "track_id = search_track(track_name, artist_name)\n",
    "new_track_df = extract_track_features(track_id)"
   ]
  },
  {
   "cell_type": "code",
   "execution_count": 11,
   "id": "b838bac3",
   "metadata": {},
   "outputs": [
    {
     "data": {
      "text/html": [
       "<div>\n",
       "<style scoped>\n",
       "    .dataframe tbody tr th:only-of-type {\n",
       "        vertical-align: middle;\n",
       "    }\n",
       "\n",
       "    .dataframe tbody tr th {\n",
       "        vertical-align: top;\n",
       "    }\n",
       "\n",
       "    .dataframe thead th {\n",
       "        text-align: right;\n",
       "    }\n",
       "</style>\n",
       "<table border=\"1\" class=\"dataframe\">\n",
       "  <thead>\n",
       "    <tr style=\"text-align: right;\">\n",
       "      <th></th>\n",
       "      <th>track_name</th>\n",
       "      <th>track_id</th>\n",
       "      <th>artist_name</th>\n",
       "      <th>album_name</th>\n",
       "      <th>release_date</th>\n",
       "      <th>artist_genre</th>\n",
       "      <th>popularity</th>\n",
       "      <th>Duration (ms)</th>\n",
       "      <th>Acousticness</th>\n",
       "      <th>Danceability</th>\n",
       "      <th>Energy</th>\n",
       "      <th>Instrumentalness</th>\n",
       "      <th>Key</th>\n",
       "      <th>Liveness</th>\n",
       "      <th>Loudness</th>\n",
       "      <th>Mode</th>\n",
       "      <th>Speechiness</th>\n",
       "      <th>Tempo</th>\n",
       "      <th>Time Signature</th>\n",
       "      <th>Valence</th>\n",
       "    </tr>\n",
       "  </thead>\n",
       "  <tbody>\n",
       "    <tr>\n",
       "      <th>0</th>\n",
       "      <td>Enough Is Enough</td>\n",
       "      <td>3BHFResGQiUvbYToUdaDQz</td>\n",
       "      <td>Post Malone</td>\n",
       "      <td>AUSTIN</td>\n",
       "      <td>2023-07-28</td>\n",
       "      <td>dfw rap</td>\n",
       "      <td>77</td>\n",
       "      <td>165175</td>\n",
       "      <td>0.014</td>\n",
       "      <td>0.483</td>\n",
       "      <td>0.768</td>\n",
       "      <td>0</td>\n",
       "      <td>0</td>\n",
       "      <td>0.109</td>\n",
       "      <td>-4.911</td>\n",
       "      <td>1</td>\n",
       "      <td>0.0344</td>\n",
       "      <td>166.061</td>\n",
       "      <td>4</td>\n",
       "      <td>0.332</td>\n",
       "    </tr>\n",
       "  </tbody>\n",
       "</table>\n",
       "</div>"
      ],
      "text/plain": [
       "         track_name                track_id  artist_name album_name  \\\n",
       "0  Enough Is Enough  3BHFResGQiUvbYToUdaDQz  Post Malone     AUSTIN   \n",
       "\n",
       "  release_date artist_genre  popularity  Duration (ms)  Acousticness  \\\n",
       "0   2023-07-28      dfw rap          77         165175         0.014   \n",
       "\n",
       "   Danceability  Energy  Instrumentalness  Key  Liveness  Loudness  Mode  \\\n",
       "0         0.483   0.768                 0    0     0.109    -4.911     1   \n",
       "\n",
       "   Speechiness    Tempo  Time Signature  Valence  \n",
       "0       0.0344  166.061               4    0.332  "
      ]
     },
     "execution_count": 11,
     "metadata": {},
     "output_type": "execute_result"
    }
   ],
   "source": [
    "new_track_df"
   ]
  },
  {
   "cell_type": "markdown",
   "id": "2ddfb515",
   "metadata": {},
   "source": [
    "### artist_genre to generic codes to use it as a numerical feature"
   ]
  },
  {
   "cell_type": "code",
   "execution_count": 12,
   "id": "93477673",
   "metadata": {},
   "outputs": [
    {
     "data": {
      "text/html": [
       "<div>\n",
       "<style scoped>\n",
       "    .dataframe tbody tr th:only-of-type {\n",
       "        vertical-align: middle;\n",
       "    }\n",
       "\n",
       "    .dataframe tbody tr th {\n",
       "        vertical-align: top;\n",
       "    }\n",
       "\n",
       "    .dataframe thead th {\n",
       "        text-align: right;\n",
       "    }\n",
       "</style>\n",
       "<table border=\"1\" class=\"dataframe\">\n",
       "  <thead>\n",
       "    <tr style=\"text-align: right;\">\n",
       "      <th></th>\n",
       "      <th>track_name</th>\n",
       "      <th>track_id</th>\n",
       "      <th>artist_name</th>\n",
       "      <th>album_name</th>\n",
       "      <th>release_date</th>\n",
       "      <th>artist_genre</th>\n",
       "      <th>popularity</th>\n",
       "      <th>Duration (ms)</th>\n",
       "      <th>Acousticness</th>\n",
       "      <th>Danceability</th>\n",
       "      <th>Energy</th>\n",
       "      <th>Instrumentalness</th>\n",
       "      <th>Key</th>\n",
       "      <th>Liveness</th>\n",
       "      <th>Loudness</th>\n",
       "      <th>Mode</th>\n",
       "      <th>Speechiness</th>\n",
       "      <th>Tempo</th>\n",
       "      <th>Time Signature</th>\n",
       "      <th>Valence</th>\n",
       "    </tr>\n",
       "  </thead>\n",
       "  <tbody>\n",
       "    <tr>\n",
       "      <th>0</th>\n",
       "      <td>Training Season</td>\n",
       "      <td>6Qb7YsAqH4wWFUMbGsCpap</td>\n",
       "      <td>Dua Lipa</td>\n",
       "      <td>Training Season</td>\n",
       "      <td>2024-02-15</td>\n",
       "      <td>dance pop</td>\n",
       "      <td>86</td>\n",
       "      <td>209487</td>\n",
       "      <td>0.0365</td>\n",
       "      <td>0.815</td>\n",
       "      <td>0.582</td>\n",
       "      <td>0.000001</td>\n",
       "      <td>5</td>\n",
       "      <td>0.1380</td>\n",
       "      <td>-4.500</td>\n",
       "      <td>0</td>\n",
       "      <td>0.0532</td>\n",
       "      <td>123.030</td>\n",
       "      <td>4</td>\n",
       "      <td>0.671</td>\n",
       "    </tr>\n",
       "    <tr>\n",
       "      <th>1</th>\n",
       "      <td>Capricorn</td>\n",
       "      <td>2tKqhcDNVVKXJqllKzrecM</td>\n",
       "      <td>Vampire Weekend</td>\n",
       "      <td>Capricorn / Gen-X Cops</td>\n",
       "      <td>2024-02-16</td>\n",
       "      <td>baroque pop</td>\n",
       "      <td>66</td>\n",
       "      <td>249560</td>\n",
       "      <td>0.1590</td>\n",
       "      <td>0.563</td>\n",
       "      <td>0.644</td>\n",
       "      <td>0.000311</td>\n",
       "      <td>7</td>\n",
       "      <td>0.1180</td>\n",
       "      <td>-3.889</td>\n",
       "      <td>1</td>\n",
       "      <td>0.0318</td>\n",
       "      <td>140.022</td>\n",
       "      <td>4</td>\n",
       "      <td>0.525</td>\n",
       "    </tr>\n",
       "    <tr>\n",
       "      <th>2</th>\n",
       "      <td>Bittersweet</td>\n",
       "      <td>7yfRb4seXT7w8zVMW0dXNa</td>\n",
       "      <td>Gunna</td>\n",
       "      <td>Bittersweet</td>\n",
       "      <td>2024-02-16</td>\n",
       "      <td>atl hip hop</td>\n",
       "      <td>70</td>\n",
       "      <td>191493</td>\n",
       "      <td>0.5640</td>\n",
       "      <td>0.440</td>\n",
       "      <td>0.636</td>\n",
       "      <td>0.000000</td>\n",
       "      <td>1</td>\n",
       "      <td>0.2530</td>\n",
       "      <td>-5.730</td>\n",
       "      <td>0</td>\n",
       "      <td>0.0705</td>\n",
       "      <td>158.475</td>\n",
       "      <td>4</td>\n",
       "      <td>0.687</td>\n",
       "    </tr>\n",
       "    <tr>\n",
       "      <th>3</th>\n",
       "      <td>CONTIGO (with Tiësto)</td>\n",
       "      <td>4UkUxO2WlKLc0Q1iEutGGh</td>\n",
       "      <td>KAROL G, Tiësto</td>\n",
       "      <td>CONTIGO (with Tiësto)</td>\n",
       "      <td>2024-02-15</td>\n",
       "      <td>reggaeton</td>\n",
       "      <td>83</td>\n",
       "      <td>192786</td>\n",
       "      <td>0.1780</td>\n",
       "      <td>0.846</td>\n",
       "      <td>0.545</td>\n",
       "      <td>0.000006</td>\n",
       "      <td>5</td>\n",
       "      <td>0.0989</td>\n",
       "      <td>-7.826</td>\n",
       "      <td>1</td>\n",
       "      <td>0.0736</td>\n",
       "      <td>122.029</td>\n",
       "      <td>4</td>\n",
       "      <td>0.268</td>\n",
       "    </tr>\n",
       "    <tr>\n",
       "      <th>4</th>\n",
       "      <td>TEXAS HOLD 'EM</td>\n",
       "      <td>0Z7nGFVCLfixWctgePsRk9</td>\n",
       "      <td>Beyoncé</td>\n",
       "      <td>TEXAS HOLD 'EM</td>\n",
       "      <td>2024-02-11</td>\n",
       "      <td>pop</td>\n",
       "      <td>90</td>\n",
       "      <td>235636</td>\n",
       "      <td>0.5880</td>\n",
       "      <td>0.725</td>\n",
       "      <td>0.709</td>\n",
       "      <td>0.000000</td>\n",
       "      <td>2</td>\n",
       "      <td>0.1350</td>\n",
       "      <td>-6.514</td>\n",
       "      <td>1</td>\n",
       "      <td>0.0720</td>\n",
       "      <td>110.024</td>\n",
       "      <td>4</td>\n",
       "      <td>0.353</td>\n",
       "    </tr>\n",
       "  </tbody>\n",
       "</table>\n",
       "</div>"
      ],
      "text/plain": [
       "              track_name                track_id      artist_name  \\\n",
       "0        Training Season  6Qb7YsAqH4wWFUMbGsCpap         Dua Lipa   \n",
       "1              Capricorn  2tKqhcDNVVKXJqllKzrecM  Vampire Weekend   \n",
       "2            Bittersweet  7yfRb4seXT7w8zVMW0dXNa            Gunna   \n",
       "3  CONTIGO (with Tiësto)  4UkUxO2WlKLc0Q1iEutGGh  KAROL G, Tiësto   \n",
       "4         TEXAS HOLD 'EM  0Z7nGFVCLfixWctgePsRk9          Beyoncé   \n",
       "\n",
       "               album_name release_date artist_genre  popularity  \\\n",
       "0         Training Season   2024-02-15    dance pop          86   \n",
       "1  Capricorn / Gen-X Cops   2024-02-16  baroque pop          66   \n",
       "2             Bittersweet   2024-02-16  atl hip hop          70   \n",
       "3   CONTIGO (with Tiësto)   2024-02-15    reggaeton          83   \n",
       "4          TEXAS HOLD 'EM   2024-02-11          pop          90   \n",
       "\n",
       "   Duration (ms)  Acousticness  Danceability  Energy  Instrumentalness  Key  \\\n",
       "0         209487        0.0365         0.815   0.582          0.000001    5   \n",
       "1         249560        0.1590         0.563   0.644          0.000311    7   \n",
       "2         191493        0.5640         0.440   0.636          0.000000    1   \n",
       "3         192786        0.1780         0.846   0.545          0.000006    5   \n",
       "4         235636        0.5880         0.725   0.709          0.000000    2   \n",
       "\n",
       "   Liveness  Loudness  Mode  Speechiness    Tempo  Time Signature  Valence  \n",
       "0    0.1380    -4.500     0       0.0532  123.030               4    0.671  \n",
       "1    0.1180    -3.889     1       0.0318  140.022               4    0.525  \n",
       "2    0.2530    -5.730     0       0.0705  158.475               4    0.687  \n",
       "3    0.0989    -7.826     1       0.0736  122.029               4    0.268  \n",
       "4    0.1350    -6.514     1       0.0720  110.024               4    0.353  "
      ]
     },
     "execution_count": 12,
     "metadata": {},
     "output_type": "execute_result"
    }
   ],
   "source": [
    "# Use just first genre\n",
    "tracks_df['artist_genre'] = tracks_df['artist_genre'].str.extract(r'\\[\\'(.*?)\\'')[0]\n",
    "tracks_df.head()"
   ]
  },
  {
   "cell_type": "code",
   "execution_count": 18,
   "id": "1864fb04",
   "metadata": {},
   "outputs": [],
   "source": [
    "# Extract all unique artist genres from both DataFrames\n",
    "all_genres = pd.concat([tracks_df['artist_genre'], new_track_df['artist_genre']]).unique()\n",
    "\n",
    "# Create a mapping between genres and their category codes\n",
    "genre_mapping = {genre: code for code, genre in enumerate(all_genres)}\n",
    "\n",
    "# Map the artist genres to their corresponding category codes in both DataFrames\n",
    "tracks_df['artist_genre'] = tracks_df['artist_genre'].map(genre_mapping)\n",
    "new_track_df['artist_genre'] = new_track_df['artist_genre'].map(genre_mapping)"
   ]
  },
  {
   "cell_type": "markdown",
   "id": "adcac8a4",
   "metadata": {},
   "source": [
    "## Use cosine similarity to find similar tracks"
   ]
  },
  {
   "cell_type": "code",
   "execution_count": 19,
   "id": "e6f0545e",
   "metadata": {},
   "outputs": [],
   "source": [
    "def get_similar_songs(new_track_features, training_features, num_recommendations=5):\n",
    "    # Calculate cosine similarity between the new song and all training songs\n",
    "    similarity_scores = cosine_similarity(new_track_features, training_features)\n",
    "    \n",
    "    # Get indices of the most similar songs\n",
    "    similar_song_indices = similarity_scores.argsort()[0][::-1][:num_recommendations]\n",
    "        \n",
    "    return similar_song_indices"
   ]
  },
  {
   "cell_type": "code",
   "execution_count": 20,
   "id": "230eff55",
   "metadata": {},
   "outputs": [],
   "source": [
    "# Selecting numerical features\n",
    "numerical_features = ['artist_genre', 'popularity', 'Duration (ms)', 'Acousticness', 'Danceability', 'Energy', \n",
    "                      'Instrumentalness', 'Key', 'Liveness', 'Loudness', 'Mode', 'Speechiness', \n",
    "                      'Tempo', 'Time Signature', 'Valence']\n",
    "\n",
    "# Filter out the new track from the training features (if it is in the df)\n",
    "tracks_df_filtered = tracks_df[tracks_df['track_id'] != new_track_df['track_id'].iloc[0]]\n",
    "\n",
    "# Extract relevant features for feature-based recommendation\n",
    "training_features = tracks_df_filtered[numerical_features]\n",
    "new_track_features = new_track_df[numerical_features]"
   ]
  },
  {
   "cell_type": "code",
   "execution_count": 21,
   "id": "8ed6deaf",
   "metadata": {},
   "outputs": [],
   "source": [
    "# Calculate similar songs indices\n",
    "similar_song_indices = get_similar_songs(new_track_features, training_features)"
   ]
  },
  {
   "cell_type": "code",
   "execution_count": 22,
   "id": "6eb14e8b",
   "metadata": {},
   "outputs": [
    {
     "data": {
      "text/html": [
       "<div>\n",
       "<style scoped>\n",
       "    .dataframe tbody tr th:only-of-type {\n",
       "        vertical-align: middle;\n",
       "    }\n",
       "\n",
       "    .dataframe tbody tr th {\n",
       "        vertical-align: top;\n",
       "    }\n",
       "\n",
       "    .dataframe thead th {\n",
       "        text-align: right;\n",
       "    }\n",
       "</style>\n",
       "<table border=\"1\" class=\"dataframe\">\n",
       "  <thead>\n",
       "    <tr style=\"text-align: right;\">\n",
       "      <th></th>\n",
       "      <th>track_name</th>\n",
       "      <th>artist_name</th>\n",
       "    </tr>\n",
       "  </thead>\n",
       "  <tbody>\n",
       "    <tr>\n",
       "      <th>0</th>\n",
       "      <td>Eyes on my baby</td>\n",
       "      <td>BETWEEN FRIENDS</td>\n",
       "    </tr>\n",
       "    <tr>\n",
       "      <th>1</th>\n",
       "      <td>Vibrate</td>\n",
       "      <td>James Hype, Tita Lau</td>\n",
       "    </tr>\n",
       "    <tr>\n",
       "      <th>2</th>\n",
       "      <td>Waves</td>\n",
       "      <td>Kanye West</td>\n",
       "    </tr>\n",
       "    <tr>\n",
       "      <th>3</th>\n",
       "      <td>Erase Me - Main</td>\n",
       "      <td>Kid Cudi, Kanye West</td>\n",
       "    </tr>\n",
       "    <tr>\n",
       "      <th>4</th>\n",
       "      <td>The Next Episode</td>\n",
       "      <td>Dr. Dre, Snoop Dogg</td>\n",
       "    </tr>\n",
       "  </tbody>\n",
       "</table>\n",
       "</div>"
      ],
      "text/plain": [
       "         track_name           artist_name\n",
       "0   Eyes on my baby       BETWEEN FRIENDS\n",
       "1           Vibrate  James Hype, Tita Lau\n",
       "2             Waves            Kanye West\n",
       "3   Erase Me - Main  Kid Cudi, Kanye West\n",
       "4  The Next Episode   Dr. Dre, Snoop Dogg"
      ]
     },
     "execution_count": 22,
     "metadata": {},
     "output_type": "execute_result"
    }
   ],
   "source": [
    "# Get details of similar songs\n",
    "similar_songs = tracks_df.iloc[similar_song_indices]\n",
    "similar_songs.reset_index(drop=True, inplace=True)\n",
    "\n",
    "similar_songs[['track_name', 'artist_name']]"
   ]
  },
  {
   "cell_type": "markdown",
   "id": "5cea8c56",
   "metadata": {},
   "source": [
    "## Use kNN to find similar songs"
   ]
  },
  {
   "cell_type": "code",
   "execution_count": 23,
   "id": "bdab069c",
   "metadata": {},
   "outputs": [],
   "source": [
    "# Selecting numerical features\n",
    "numerical_features = ['artist_genre', 'popularity', 'Duration (ms)', 'Acousticness', 'Danceability', 'Energy', \n",
    "                      'Instrumentalness', 'Key', 'Liveness', 'Loudness', 'Mode', 'Speechiness', \n",
    "                      'Tempo', 'Time Signature', 'Valence']\n",
    "\n",
    "# Filter out the new track from the training features (if it is in the df)\n",
    "tracks_df_filtered = tracks_df[tracks_df['track_id'] != new_track_df['track_id'].iloc[0]]\n",
    "\n",
    "# Extract relevant features for feature-based recommendation\n",
    "training_features = tracks_df_filtered[numerical_features]\n",
    "new_track_features = new_track_df[numerical_features]"
   ]
  },
  {
   "cell_type": "code",
   "execution_count": 24,
   "id": "a47ec039",
   "metadata": {},
   "outputs": [],
   "source": [
    "# Fit KNN model\n",
    "k = 5  # Number of songs to consider\n",
    "knn_model = NearestNeighbors(n_neighbors=k)\n",
    "knn_model.fit(training_features)\n",
    "\n",
    "# Find similar songs using KNN\n",
    "distances, similar_song_indices = knn_model.kneighbors(new_track_features)"
   ]
  },
  {
   "cell_type": "code",
   "execution_count": 25,
   "id": "2476f82f",
   "metadata": {},
   "outputs": [
    {
     "data": {
      "text/html": [
       "<div>\n",
       "<style scoped>\n",
       "    .dataframe tbody tr th:only-of-type {\n",
       "        vertical-align: middle;\n",
       "    }\n",
       "\n",
       "    .dataframe tbody tr th {\n",
       "        vertical-align: top;\n",
       "    }\n",
       "\n",
       "    .dataframe thead th {\n",
       "        text-align: right;\n",
       "    }\n",
       "</style>\n",
       "<table border=\"1\" class=\"dataframe\">\n",
       "  <thead>\n",
       "    <tr style=\"text-align: right;\">\n",
       "      <th></th>\n",
       "      <th>track_name</th>\n",
       "      <th>artist_name</th>\n",
       "    </tr>\n",
       "  </thead>\n",
       "  <tbody>\n",
       "    <tr>\n",
       "      <th>0</th>\n",
       "      <td>Turnt</td>\n",
       "      <td>Money Man, Moneybagg Yo</td>\n",
       "    </tr>\n",
       "    <tr>\n",
       "      <th>1</th>\n",
       "      <td>Satellite</td>\n",
       "      <td>Harry Styles</td>\n",
       "    </tr>\n",
       "    <tr>\n",
       "      <th>2</th>\n",
       "      <td>Tainted Love</td>\n",
       "      <td>Milky Chance</td>\n",
       "    </tr>\n",
       "    <tr>\n",
       "      <th>3</th>\n",
       "      <td>Darlin'</td>\n",
       "      <td>Chase Matthew</td>\n",
       "    </tr>\n",
       "    <tr>\n",
       "      <th>4</th>\n",
       "      <td>Aphid (feat. Dijon)</td>\n",
       "      <td>Matt Champion</td>\n",
       "    </tr>\n",
       "  </tbody>\n",
       "</table>\n",
       "</div>"
      ],
      "text/plain": [
       "            track_name              artist_name\n",
       "0                Turnt  Money Man, Moneybagg Yo\n",
       "1            Satellite             Harry Styles\n",
       "2         Tainted Love             Milky Chance\n",
       "3              Darlin'            Chase Matthew\n",
       "4  Aphid (feat. Dijon)            Matt Champion"
      ]
     },
     "execution_count": 25,
     "metadata": {},
     "output_type": "execute_result"
    }
   ],
   "source": [
    "# Get details of similar songs\n",
    "similar_songs = tracks_df.iloc[similar_song_indices[0]]\n",
    "similar_songs.reset_index(drop=True, inplace=True)\n",
    "\n",
    "similar_songs[['track_name', 'artist_name']]"
   ]
  },
  {
   "cell_type": "code",
   "execution_count": null,
   "id": "c818d9ba",
   "metadata": {},
   "outputs": [],
   "source": []
  }
 ],
 "metadata": {
  "kernelspec": {
   "display_name": "Python 3 (ipykernel)",
   "language": "python",
   "name": "python3"
  },
  "language_info": {
   "codemirror_mode": {
    "name": "ipython",
    "version": 3
   },
   "file_extension": ".py",
   "mimetype": "text/x-python",
   "name": "python",
   "nbconvert_exporter": "python",
   "pygments_lexer": "ipython3",
   "version": "3.11.5"
  }
 },
 "nbformat": 4,
 "nbformat_minor": 5
}
